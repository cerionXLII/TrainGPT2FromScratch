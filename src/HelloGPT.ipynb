{
 "cells": [
  {
   "cell_type": "markdown",
   "metadata": {},
   "source": [
    "# Notebook with various tests of the GPT code"
   ]
  },
  {
   "cell_type": "code",
   "execution_count": 2,
   "metadata": {},
   "outputs": [],
   "source": [
    "#!pip install torch torchvision torchaudio --index-url https://download.pytorch.org/whl/cu124"
   ]
  },
  {
   "cell_type": "code",
   "execution_count": 5,
   "metadata": {},
   "outputs": [],
   "source": [
    "#!pip install datasets tqdm"
   ]
  },
  {
   "cell_type": "code",
   "execution_count": 18,
   "metadata": {},
   "outputs": [],
   "source": [
    "#!pip install -r ../requirements.txt"
   ]
  },
  {
   "cell_type": "code",
   "execution_count": 1,
   "metadata": {},
   "outputs": [
    {
     "name": "stdout",
     "output_type": "stream",
     "text": [
      "Running GPT.py\n"
     ]
    }
   ],
   "source": [
    "# Set autoreload\n",
    "%load_ext autoreload\n",
    "%autoreload 2\n",
    "\n",
    "from GPT import GPT, GPTConfig, Generator\n",
    "from DataLoaderGPT import DataLoaderGPT\n",
    "from LRScheduler import LRScheduler\n",
    "import tiktoken\n",
    "import torch\n",
    "import torch.nn as nn\n",
    "from torch.nn import functional as F\n",
    "import numpy as np\n",
    "import os\n"
   ]
  },
  {
   "cell_type": "code",
   "execution_count": 2,
   "metadata": {},
   "outputs": [],
   "source": [
    "device = torch.device(\"cuda\" if torch.cuda.is_available() else \"cpu\")"
   ]
  },
  {
   "cell_type": "code",
   "execution_count": 3,
   "metadata": {},
   "outputs": [
    {
     "data": {
      "text/plain": [
       "GPTConfig(block_size=1024, vocab_size=50304, n_layer=12, n_head=12, n_embd=768)"
      ]
     },
     "execution_count": 3,
     "metadata": {},
     "output_type": "execute_result"
    }
   ],
   "source": [
    "config = GPTConfig()\n",
    "config \n"
   ]
  },
  {
   "cell_type": "code",
   "execution_count": 4,
   "metadata": {},
   "outputs": [],
   "source": [
    "model = GPT(config)"
   ]
  },
  {
   "cell_type": "code",
   "execution_count": 5,
   "metadata": {},
   "outputs": [
    {
     "name": "stdout",
     "output_type": "stream",
     "text": [
      "Loading model: ../models/model_35000.pt\n",
      "Model loaded...\n"
     ]
    }
   ],
   "source": [
    "# Resume a previous model if existing\n",
    "#Find the latest model in the target folder\n",
    "model_folder='../models/'\n",
    "model_filter='model'\n",
    "model_files = []\n",
    "#Check if folder exists\n",
    "if os.path.exists(model_folder):\n",
    "    model_files = os.listdir(model_folder)\n",
    "    model_files = [f for f in model_files if model_filter in f]\n",
    "\n",
    "if len(model_files)==0:\n",
    "    print('No previous model found. Starting fresh.')\n",
    "    model = GPT(config)\n",
    "    print('Model created...')\n",
    "else:\n",
    "    model_files.sort()\n",
    "    latest_model = model_files[-1]\n",
    "    latest_model=os.path.join(model_folder,latest_model)\n",
    "    print('Loading model:', latest_model)\n",
    "    model_data = torch.load(latest_model, weights_only=False, map_location=device)\n",
    "    #dict_keys(['model', 'config', 'step', 'val_loss'])\n",
    "    model = GPT(model_data['config'])\n",
    "    model.load_state_dict(model_data['model'])\n",
    "    print('Model loaded...')"
   ]
  },
  {
   "cell_type": "code",
   "execution_count": 6,
   "metadata": {},
   "outputs": [
    {
     "data": {
      "text/plain": [
       "'../models/model_35000.pt'"
      ]
     },
     "execution_count": 6,
     "metadata": {},
     "output_type": "execute_result"
    }
   ],
   "source": [
    "latest_model"
   ]
  },
  {
   "cell_type": "code",
   "execution_count": 7,
   "metadata": {},
   "outputs": [
    {
     "name": "stdout",
     "output_type": "stream",
     "text": [
      "Number of parameters: 124475904\n"
     ]
    }
   ],
   "source": [
    "# Count number of parameters\n",
    "num_params = sum(p.numel() for p in model.parameters())\n",
    "print('Number of parameters: {}'.format(num_params))"
   ]
  },
  {
   "cell_type": "code",
   "execution_count": 5,
   "metadata": {},
   "outputs": [
    {
     "data": {
      "text/plain": [
       "tensor([[43794, 28329, 18747,  ..., 11551, 16568, 39041],\n",
       "        [24101, 36755, 13411,  ...,  7062,  6004, 35578],\n",
       "        [37311, 18572, 21883,  ..., 19782, 37860, 39041],\n",
       "        [41361, 35112,  8427,  ..., 39288,  3946, 31934],\n",
       "        [32468,  7473,  1356,  ...,  3821, 48171, 33738]])"
      ]
     },
     "execution_count": 5,
     "metadata": {},
     "output_type": "execute_result"
    }
   ],
   "source": [
    "# Creata a random tensor with batch size 5\n",
    "x = torch.randint(0, config.vocab_size, (5, config.block_size))\n",
    "x"
   ]
  },
  {
   "cell_type": "code",
   "execution_count": 6,
   "metadata": {},
   "outputs": [],
   "source": [
    "logits, loss = model(x)"
   ]
  },
  {
   "cell_type": "code",
   "execution_count": 7,
   "metadata": {},
   "outputs": [
    {
     "data": {
      "text/plain": [
       "torch.Size([5, 1024, 50257])"
      ]
     },
     "execution_count": 7,
     "metadata": {},
     "output_type": "execute_result"
    }
   ],
   "source": [
    "logits.shape"
   ]
  },
  {
   "cell_type": "code",
   "execution_count": 8,
   "metadata": {},
   "outputs": [],
   "source": [
    "tokenizer = tiktoken.get_encoding('gpt2')"
   ]
  },
  {
   "cell_type": "code",
   "execution_count": 9,
   "metadata": {},
   "outputs": [
    {
     "data": {
      "text/plain": [
       "GPT(\n",
       "  (transformer): ModuleDict(\n",
       "    (wte): Embedding(50304, 768)\n",
       "    (wpe): Embedding(1024, 768)\n",
       "    (h): ModuleList(\n",
       "      (0-11): 12 x Block(\n",
       "        (ln_1): LayerNorm((768,), eps=1e-05, elementwise_affine=True)\n",
       "        (attn): CausalSelfAttention(\n",
       "          (c_attn): Linear(in_features=768, out_features=2304, bias=True)\n",
       "          (c_proj): Linear(in_features=768, out_features=768, bias=True)\n",
       "        )\n",
       "        (ln_2): LayerNorm((768,), eps=1e-05, elementwise_affine=True)\n",
       "        (mlp): MLP(\n",
       "          (c_fc): Linear(in_features=768, out_features=3072, bias=True)\n",
       "          (gelu): GELU(approximate='tanh')\n",
       "          (c_proj): Linear(in_features=3072, out_features=768, bias=True)\n",
       "        )\n",
       "      )\n",
       "    )\n",
       "    (ln_f): LayerNorm((768,), eps=1e-05, elementwise_affine=True)\n",
       "  )\n",
       "  (lm_head): Linear(in_features=768, out_features=50304, bias=False)\n",
       ")"
      ]
     },
     "execution_count": 9,
     "metadata": {},
     "output_type": "execute_result"
    }
   ],
   "source": [
    "\n",
    "model.to(device)"
   ]
  },
  {
   "cell_type": "code",
   "execution_count": 30,
   "metadata": {},
   "outputs": [
    {
     "name": "stdout",
     "output_type": "stream",
     "text": [
      "Running GPT.py\n"
     ]
    }
   ],
   "source": [
    "generator = Generator(model, tokenizer)"
   ]
  },
  {
   "cell_type": "code",
   "execution_count": 37,
   "metadata": {},
   "outputs": [
    {
     "name": "stdout",
     "output_type": "stream",
     "text": [
      "The meaning of life is 42 _____ (7).\n",
      "(8) [F]is a statement of action, not merely a reaction;\n",
      "(9) The person is in the state of utterance, not as a consequence of actions;\n",
      "(10) The person is still in the condition of utterance as a consequence of actions\n",
      "(11) The person is in his state of utterance as a consequence of actions\n",
      "(12) [E]is a statement of action, not a consequence of action;\n",
      "The meaning of life is 42 \n",
      "This is where the word gender comes in. Gender is the term for the ability to live a meaningful and rewarding life without suffering a condition that often occurs in domestic animals. Gender in animals and humans are also affected and sometimes it is important for females and therefore men to have the ability to live meaningful and rewarding lives.\n",
      "In modern times, gender is defined as those characteristics which tend to determine individuals' gender identity and make it difficult to control and change. We know that men are not the\n"
     ]
    }
   ],
   "source": [
    "texts = generator.generate('The meaning of life is 42 ', max_len=100, top_k=50, num_return_sequences=2)\n",
    "for text in texts:\n",
    "    print(text)"
   ]
  },
  {
   "cell_type": "code",
   "execution_count": 48,
   "metadata": {},
   "outputs": [
    {
     "name": "stdout",
     "output_type": "stream",
     "text": [
      "found 1 shards for split train\n"
     ]
    }
   ],
   "source": [
    "path = '../data/simple/'\n",
    "B, T = 5, 10\n",
    "process_rank = 0\n",
    "num_processes = 1\n",
    "split = 'train'\n",
    "data_loader = DataLoaderGPT(B=B, T=T, process_rank=process_rank,num_processes=num_processes, split=split, data_root=path, is_text=True)"
   ]
  },
  {
   "cell_type": "code",
   "execution_count": 50,
   "metadata": {},
   "outputs": [],
   "source": [
    "x, y = data_loader.next_batch()"
   ]
  },
  {
   "cell_type": "code",
   "execution_count": 51,
   "metadata": {},
   "outputs": [
    {
     "data": {
      "text/plain": [
       "torch.Size([5, 10])"
      ]
     },
     "execution_count": 51,
     "metadata": {},
     "output_type": "execute_result"
    }
   ],
   "source": [
    "x.shape"
   ]
  },
  {
   "cell_type": "code",
   "execution_count": 52,
   "metadata": {},
   "outputs": [
    {
     "data": {
      "text/plain": [
       "tensor([[ 5962, 22307,    25,   198,  8421,   356,  5120,   597,  2252,    11],\n",
       "        [ 3285,   502,  2740,    13,   198,   198,  3237,    25,   198,  5248],\n",
       "        [  461,    11,  2740,    13,   198,   198,  5962, 22307,    25,   198],\n",
       "        [ 1639,   389,   477, 12939,  2138,   284,  4656,   621,   284,  1145],\n",
       "        [  680,    30,   198,   198,  3237,    25,   198,  4965,  5634,    13]])"
      ]
     },
     "execution_count": 52,
     "metadata": {},
     "output_type": "execute_result"
    }
   ],
   "source": [
    "x"
   ]
  },
  {
   "cell_type": "code",
   "execution_count": 53,
   "metadata": {},
   "outputs": [
    {
     "data": {
      "text/plain": [
       "tensor([[22307,    25,   198,  8421,   356,  5120,   597,  2252,    11,  3285],\n",
       "        [  502,  2740,    13,   198,   198,  3237,    25,   198,  5248,   461],\n",
       "        [   11,  2740,    13,   198,   198,  5962, 22307,    25,   198,  1639],\n",
       "        [  389,   477, 12939,  2138,   284,  4656,   621,   284,  1145,   680],\n",
       "        [   30,   198,   198,  3237,    25,   198,  4965,  5634,    13, 12939]])"
      ]
     },
     "execution_count": 53,
     "metadata": {},
     "output_type": "execute_result"
    }
   ],
   "source": [
    "y"
   ]
  },
  {
   "cell_type": "code",
   "execution_count": 55,
   "metadata": {},
   "outputs": [],
   "source": [
    "x = x.to(device)\n",
    "y = y.to(device)\n",
    "logits, loss = model(x,y)"
   ]
  },
  {
   "cell_type": "code",
   "execution_count": 57,
   "metadata": {},
   "outputs": [
    {
     "data": {
      "text/plain": [
       "tensor(10.9079, device='cuda:0', grad_fn=<NllLossBackward0>)"
      ]
     },
     "execution_count": 57,
     "metadata": {},
     "output_type": "execute_result"
    }
   ],
   "source": [
    "loss"
   ]
  },
  {
   "cell_type": "markdown",
   "metadata": {},
   "source": [
    "# Test the LR Scheduler\n"
   ]
  },
  {
   "cell_type": "code",
   "execution_count": 65,
   "metadata": {},
   "outputs": [],
   "source": [
    "lr_scheduler = LRScheduler(max_lr=6e-4, min_lr=6e-5,warmup_steps=10, max_steps=50)"
   ]
  },
  {
   "cell_type": "code",
   "execution_count": 68,
   "metadata": {},
   "outputs": [
    {
     "data": {
      "text/plain": [
       "[<matplotlib.lines.Line2D at 0x1c26a790370>]"
      ]
     },
     "execution_count": 68,
     "metadata": {},
     "output_type": "execute_result"
    },
    {
     "data": {
      "image/png": "[encoded data removed]",
      "text/plain": [
       "<Figure size 640x480 with 1 Axes>"
      ]
     },
     "metadata": {},
     "output_type": "display_data"
    }
   ],
   "source": [
    "t = []\n",
    "lrs =[]\n",
    "\n",
    "for i in range(100):\n",
    "    lr = lr_scheduler.get_lr(i)\n",
    "    t.append(i)\n",
    "    lrs.append(lr)\n",
    "\n",
    "import matplotlib.pyplot as plt\n",
    "plt.plot(t, lrs)"
   ]
  }
 ],
 "metadata": {
  "kernelspec": {
   "display_name": "tf38",
   "language": "python",
   "name": "python3"
  },
  "language_info": {
   "codemirror_mode": {
    "name": "ipython",
    "version": 3
   },
   "file_extension": ".py",
   "mimetype": "text/x-python",
   "name": "python",
   "nbconvert_exporter": "python",
   "pygments_lexer": "ipython3",
   "version": "3.12.3"
  }
 },
 "nbformat": 4,
 "nbformat_minor": 2
}
